{
 "cells": [
  {
   "cell_type": "code",
   "execution_count": 8,
   "metadata": {},
   "outputs": [],
   "source": [
    "import requests\n",
    "import pandas as pd\n",
    "import numpy as np\n",
    "import json\n",
    "from config import api_key"
   ]
  },
  {
   "cell_type": "code",
   "execution_count": null,
   "metadata": {},
   "outputs": [],
   "source": [
    "standing_data = requests.get(team_url).json()\n",
    "def extract_team_data(data):\n",
    "    teams = []\n",
    "    if 'teams' in data:\n",
    "        for team in data['teams']:\n",
    "            team_id = team['id']\n",
    "            team_name = team['name']\n",
    "            team_wins = team['wins']\n",
    "            team_losses = team['losses']\n",
    "            teams.append({'id': team_id, 'name': team_name, team_wins: 'wins', team_losses: 'losses'})\n",
    "    if 'divisions' in data:\n",
    "        for division in data['divisions']:\n",
    "            teams += extract_team_data(division)\n",
    "    if 'conferences' in data:\n",
    "        for conference in data['conferences']:\n",
    "            teams += extract_team_data(conference)\n",
    "    return teams\n",
    "\n",
    "# Extract team id and team name from the team_data dictionary\n",
    "teams = extract_team_data(standing_data)\n",
    "\n",
    "# Create DataFrame from the extracted team data\n",
    "team_info_df = pd.DataFrame(teams)\n",
    "\n",
    "# Display the DataFrame\n",
    "print(team_info_df)\n",
    "\n",
    "#create list of IDs for looping\n",
    "team_id_list = []\n",
    "team_name_list = []\n",
    "for i in range(len(team_info_df)):\n",
    "    team_id_list.append(team_info_df.loc[i, 'id'])\n",
    "    team_name_list.append(team_info_df.loc[i, 'name'])"
   ]
  },
  {
   "cell_type": "code",
   "execution_count": null,
   "metadata": {},
   "outputs": [],
   "source": [
    "results_dict = {}\n",
    "#loop through all teams\n",
    "for i in range(len(team_id_list)):\n",
    "    team_id_num = team_id_list[i]\n",
    "    target_url = f'http://api.sportradar.us/nba/trial/v8/en/seasons/2022/REG/teams/{team_id_num}/statistics.json?api_key={api_key}'\n",
    "    indiv_team_data = requests.get(target_url).json()\n",
    "\n",
    "    #get team stats\n",
    "    team_totals_dict = indiv_team_data['own_record']['total']\n",
    "    opp_vs_team_totals_dict = indiv_team_data['opponents']['total']\n",
    "\n",
    "    team_stat_keys = ['games_played', 'minutes', 'field_goals_made', 'field_goals_att',\n",
    "                      'three_points_made', 'three_points_att', 'three_points_pct',\n",
    "                      'free_throws_made', 'free_throws_att', 'offensive_rebounds',\n",
    "                      'defensive_rebounds', 'rebounds', 'assists', 'turnovers',\n",
    "                      'steals', 'blocks', 'points']\n",
    "    team_stats = {k: v for k, v in team_totals_dict.items() if k in team_stat_keys}\n",
    "    opp_vs_team_stats = {k: v for k, v in opp_vs_team_totals_dict.items() if k in team_stat_keys}\n",
    "\n",
    "    #team stats calculations\n",
    "    poss = 0.96 * ((team_stats['field_goals_att']) - (team_stats['offensive_rebounds']) + (team_stats['turnovers']) + 0.44 * (team_stats['free_throws_att']))\n",
    "    team_o_rtg = 100 * (team_stats['points']) / (poss)\n",
    "    team_d_rtg = 100 * (opp_vs_team_stats['points']) / (poss)\n",
    "    team_net_rtg = (team_o_rtg) - (team_d_rtg)\n",
    "\n",
    "    #store results\n",
    "    team_name = team_name_list[i]\n",
    "    results_dict[team_name] = {\n",
    "        'poss': poss,\n",
    "        'team_o_rtg': team_o_rtg,\n",
    "        'team_d_rtg': team_d_rtg,\n",
    "        'team_net_rtg': team_net_rtg \n",
    "    }\n",
    "\n",
    "    time.sleep(1)\n",
    "\n",
    "    \n",
    "\n",
    "results_df = pd.DataFrame.from_dict(results_dict).T\n",
    "\n",
    "\n",
    "results_df"
   ]
  }
 ],
 "metadata": {
  "kernelspec": {
   "display_name": "Python 3 (ipykernel)",
   "language": "python",
   "name": "python3"
  },
  "language_info": {
   "codemirror_mode": {
    "name": "ipython",
    "version": 3
   },
   "file_extension": ".py",
   "mimetype": "text/x-python",
   "name": "python",
   "nbconvert_exporter": "python",
   "pygments_lexer": "ipython3",
   "version": "3.9.13"
  },
  "vscode": {
   "interpreter": {
    "hash": "783d9a3c5e8de918f9aff71877b15fb885c71da57cb5549dc2d1f630616a8d5d"
   }
  }
 },
 "nbformat": 4,
 "nbformat_minor": 2
}
