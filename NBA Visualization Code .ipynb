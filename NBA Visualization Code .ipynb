{
 "cells": [
  {
   "cell_type": "code",
   "execution_count": null,
   "metadata": {},
   "outputs": [],
   "source": [
    "from dotenv import load_dotenv\n",
    "import requests\n",
    "import os\n",
    "import json\n",
    "import pandas as pd\n",
    "import numpy as np \n",
    "import time\n",
    "import matplotlib.pyplot as plt\n",
    "\n",
    "#load environment variables\n",
    "load_dotenv()\n",
    "apikey=os.environ.get('apikey')\n",
    "\n",
    "#stats url \n",
    "stats_url=f'http://api.sportradar.us/nba/trial/v8/en/seasons/2020/REG/teams/583eca2f-fb46-11e1-82cb-f4ce4684ea4c/statistics.json?api_key={apikey}'\n",
    "\n",
    "timberwolves_data = requests.get(stats_url).json()\n",
    "stat_data = timberwolves_data['players']\n",
    "stats_df = pd.DataFrame.from_dict(stat_data)\n",
    "\n",
    "# Create a new column for TS%\n",
    "stats_df['TS%'] = 100 * stats_df['total']['points'] / (2 * (stats_df['total']['field_goals_att'] + 0.44 * stats_df['total']['free_throws_att']))\n",
    "\n",
    "# Create a new column for PP36\n",
    "stats_df['PP36'] = 36 * stats_df['total']['points'] / stats_df['total']['minutes']\n",
    "\n",
    "# Create bar chart for TS%\n",
    "plt.bar(stats_df['full_name'], stats_df['TS%'])\n",
    "plt.title('True Shooting Percent')\n",
    "plt.xlabel('Player')\n",
    "plt.ylabel('TS%')\n",
    "plt.xticks(rotation=90)\n",
    "plt.show()\n",
    "\n",
    "# Create bar chart for PP36\n",
    "plt.bar(stats_df['full_name'], stats_df['PP36'])\n",
    "plt.title('Points per 36 Minutes')\n",
    "plt.xlabel('Player')\n",
    "plt.ylabel('PP36')\n",
    "plt.xticks(rotation=90)\n",
    "plt.show()\n"
   ]
  }
 ],
 "metadata": {
  "kernelspec": {
   "display_name": "base",
   "language": "python",
   "name": "python3"
  },
  "language_info": {
   "codemirror_mode": {
    "name": "ipython",
    "version": 3
   },
   "file_extension": ".py",
   "mimetype": "text/x-python",
   "name": "python",
   "nbconvert_exporter": "python",
   "pygments_lexer": "ipython3",
   "version": "3.10.9"
  },
  "orig_nbformat": 4
 },
 "nbformat": 4,
 "nbformat_minor": 2
}
